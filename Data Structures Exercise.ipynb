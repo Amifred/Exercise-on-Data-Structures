{
 "cells": [
  {
   "cell_type": "markdown",
   "id": "3c2e90df",
   "metadata": {},
   "source": [
    "### Q1\n",
    "\n",
    "Name the four built-in data structures in python. Give one examples for each"
   ]
  },
  {
   "cell_type": "markdown",
   "id": "75967080",
   "metadata": {},
   "source": [
    "List\n",
    "Set\n",
    "Dictionary\n",
    "Tuple"
   ]
  },
  {
   "cell_type": "markdown",
   "id": "b6e1dd1b",
   "metadata": {},
   "source": [
    "### Q2\n",
    "\n",
    "State two differences between a list and a tuple in Python."
   ]
  },
  {
   "cell_type": "markdown",
   "id": "815fa3aa",
   "metadata": {},
   "source": [
    "1. A list is mutable, which means it can be modified. A tuple is immutable, which means it cannot be modified once it is created\n",
    "2. Lists consume more memory. A tuple consume less memory compared to list"
   ]
  },
  {
   "cell_type": "markdown",
   "id": "815b4e67",
   "metadata": {},
   "source": [
    "### Q3\n",
    "Make a list containing names of five animals with a variable name `animal_list`\n",
    "\n",
    "Write a code for the following:\n",
    "- Print the first two animals\n",
    "- Print the last two animals\n",
    "- Add three extra animals to the variable `animal_list`\n",
    "- Remove the first two animals from the variable `animal_list`\n",
    "- How many animals are in the `animal_list`?\n",
    "- Create a variable animal_set which stores the set of animal_list \n",
    "- How many elements are in the animal_set?\n"
   ]
  },
  {
   "cell_type": "code",
   "execution_count": 34,
   "id": "2dfe43f4",
   "metadata": {},
   "outputs": [
    {
     "data": {
      "text/plain": [
       "['Tiger', 'Lion', 'Monkey', 'Goat', 'Dog']"
      ]
     },
     "execution_count": 34,
     "metadata": {},
     "output_type": "execute_result"
    }
   ],
   "source": [
    "# Create a list of five animals\n",
    "animal_list=['Tiger','Lion','Monkey','Goat','Dog']\n",
    "animal_list"
   ]
  },
  {
   "cell_type": "code",
   "execution_count": 35,
   "id": "f91396f9",
   "metadata": {},
   "outputs": [
    {
     "data": {
      "text/plain": [
       "['Tiger', 'Lion']"
      ]
     },
     "execution_count": 35,
     "metadata": {},
     "output_type": "execute_result"
    }
   ],
   "source": [
    "#First 2 animals\n",
    "animal_list[0:2]"
   ]
  },
  {
   "cell_type": "code",
   "execution_count": 36,
   "id": "a52c3a4f",
   "metadata": {},
   "outputs": [
    {
     "data": {
      "text/plain": [
       "['Goat', 'Dog']"
      ]
     },
     "execution_count": 36,
     "metadata": {},
     "output_type": "execute_result"
    }
   ],
   "source": [
    "#Last 2 animals\n",
    "animal_list[3:]"
   ]
  },
  {
   "cell_type": "code",
   "execution_count": 37,
   "id": "91e196f2",
   "metadata": {},
   "outputs": [],
   "source": [
    "# Add 3 more animals to list\n",
    "animal_list.extend(['Cat','Cow','Sheep'])"
   ]
  },
  {
   "cell_type": "code",
   "execution_count": 38,
   "id": "f26d1b06",
   "metadata": {},
   "outputs": [
    {
     "data": {
      "text/plain": [
       "['Tiger', 'Lion', 'Monkey', 'Goat', 'Dog', 'Cat', 'Cow', 'Sheep']"
      ]
     },
     "execution_count": 38,
     "metadata": {},
     "output_type": "execute_result"
    }
   ],
   "source": [
    "# print animal_list\n",
    "animal_list"
   ]
  },
  {
   "cell_type": "code",
   "execution_count": 39,
   "id": "03dba160",
   "metadata": {},
   "outputs": [
    {
     "data": {
      "text/plain": [
       "['Monkey', 'Goat', 'Dog', 'Cat', 'Cow', 'Sheep']"
      ]
     },
     "execution_count": 39,
     "metadata": {},
     "output_type": "execute_result"
    }
   ],
   "source": [
    "# delete the first 2 animals on list\n",
    "del animal_list[0:2]\n",
    "animal_list"
   ]
  },
  {
   "cell_type": "code",
   "execution_count": 40,
   "id": "5ebd4a82",
   "metadata": {},
   "outputs": [
    {
     "data": {
      "text/plain": [
       "6"
      ]
     },
     "execution_count": 40,
     "metadata": {},
     "output_type": "execute_result"
    }
   ],
   "source": [
    "# find the number on animals on list\n",
    "len(animal_list)"
   ]
  },
  {
   "cell_type": "code",
   "execution_count": 41,
   "id": "a4b734c2",
   "metadata": {},
   "outputs": [],
   "source": [
    "# create a set from the animal list\n",
    "animal_set=set(animal_list)"
   ]
  },
  {
   "cell_type": "code",
   "execution_count": 42,
   "id": "95a9756d",
   "metadata": {},
   "outputs": [
    {
     "data": {
      "text/plain": [
       "{'Cat', 'Cow', 'Dog', 'Goat', 'Monkey', 'Sheep'}"
      ]
     },
     "execution_count": 42,
     "metadata": {},
     "output_type": "execute_result"
    }
   ],
   "source": [
    "# print animal_set\n",
    "animal_set"
   ]
  },
  {
   "cell_type": "code",
   "execution_count": 43,
   "id": "bb8d3938",
   "metadata": {},
   "outputs": [
    {
     "data": {
      "text/plain": [
       "6"
      ]
     },
     "execution_count": 43,
     "metadata": {},
     "output_type": "execute_result"
    }
   ],
   "source": [
    "# find the number of items on animal_set\n",
    "len(animal_set)"
   ]
  },
  {
   "cell_type": "markdown",
   "id": "113c9970",
   "metadata": {},
   "source": [
    "### Q4\n",
    "\n",
    "Given a list:\n",
    "\n",
    "suitcase = [\"sunglasses\", \"hat\", \"passport\", \"laptop\", \"suit\", \"shoes\"]\n",
    "\n",
    "a. Create a list called first containing only the two first items from suitcase.\n",
    "\n",
    "b. Create a list called middle containing only the two middle items from suitcase.\n",
    "\n",
    "c. Create a list called last made up only of the last two items from suitcase."
   ]
  },
  {
   "cell_type": "code",
   "execution_count": 44,
   "id": "da87a696",
   "metadata": {},
   "outputs": [],
   "source": [
    "#create the  list suitcase\n",
    "suitcase = [\"sunglasses\", \"hat\", \"passport\", \"laptop\", \"suit\", \"shoes\"]"
   ]
  },
  {
   "cell_type": "code",
   "execution_count": 45,
   "id": "d5754193",
   "metadata": {},
   "outputs": [
    {
     "data": {
      "text/plain": [
       "['sunglasses', 'hat']"
      ]
     },
     "execution_count": 45,
     "metadata": {},
     "output_type": "execute_result"
    }
   ],
   "source": [
    "# slice the first 2 items in list\n",
    "first=suitcase[0:2]\n",
    "first"
   ]
  },
  {
   "cell_type": "code",
   "execution_count": 46,
   "id": "d361289b",
   "metadata": {},
   "outputs": [
    {
     "data": {
      "text/plain": [
       "['passport', 'laptop']"
      ]
     },
     "execution_count": 46,
     "metadata": {},
     "output_type": "execute_result"
    }
   ],
   "source": [
    "# slice the middle 2 items in list\n",
    "middle=suitcase[2:4]\n",
    "middle"
   ]
  },
  {
   "cell_type": "code",
   "execution_count": 47,
   "id": "e016c549",
   "metadata": {},
   "outputs": [
    {
     "data": {
      "text/plain": [
       "['suit', 'shoes']"
      ]
     },
     "execution_count": 47,
     "metadata": {},
     "output_type": "execute_result"
    }
   ],
   "source": [
    "# slice the last 2 items in list\n",
    "last=suitcase[4:]\n",
    "last"
   ]
  },
  {
   "cell_type": "markdown",
   "id": "711ba044",
   "metadata": {},
   "source": [
    "### Q5\n",
    "Write a python code to insert 35 into the list below. Make sure it is inserted in the right position to maintain the order of the data.\n",
    "\n",
    "`values = [20,25,30,40,45,50,55,60,65,70]`"
   ]
  },
  {
   "cell_type": "code",
   "execution_count": 48,
   "id": "135997c1",
   "metadata": {},
   "outputs": [],
   "source": [
    "# Create values list\n",
    "values = [20,25,30,40,45,50,55,60,65,70]"
   ]
  },
  {
   "cell_type": "code",
   "execution_count": 49,
   "id": "18f230f1",
   "metadata": {},
   "outputs": [
    {
     "data": {
      "text/plain": [
       "[20, 25, 30, 35, 40, 45, 50, 55, 60, 65, 70]"
      ]
     },
     "execution_count": 49,
     "metadata": {},
     "output_type": "execute_result"
    }
   ],
   "source": [
    "# Insert 35 into the 3rd position\n",
    "values.insert(3,35)\n",
    "\n",
    "#print values\n",
    "values"
   ]
  },
  {
   "cell_type": "markdown",
   "id": "f535cf64",
   "metadata": {},
   "source": [
    "### Q6\n",
    "\n",
    "Given that Python lists and Python tuples are quite similar – when might you prefer to use a tuple over a list?"
   ]
  },
  {
   "cell_type": "markdown",
   "id": "3d3bf548",
   "metadata": {},
   "source": [
    "When you want to store data that does not change over time."
   ]
  },
  {
   "cell_type": "markdown",
   "id": "346927f6",
   "metadata": {},
   "source": [
    "### Q7\n",
    "Create a dictionary with 5 Ghana regions and their capitals and store it in the variable `region_capital`\n",
    "\n",
    "- Print out the keys of region_capital\n",
    "- Print out the values of region_capital\n"
   ]
  },
  {
   "cell_type": "code",
   "execution_count": 51,
   "id": "783e6ae2",
   "metadata": {},
   "outputs": [
    {
     "data": {
      "text/plain": [
       "{'Western': 'Sekodi Takoradi',\n",
       " 'Central': 'Cape Coast',\n",
       " 'West North': 'Bibiani',\n",
       " 'Ashanti': 'Kumasi',\n",
       " 'Eastern': 'Koforidua'}"
      ]
     },
     "execution_count": 51,
     "metadata": {},
     "output_type": "execute_result"
    }
   ],
   "source": [
    "# Create dictionary  \"region_capital\"\n",
    "region_capital={'Western':'Sekodi Takoradi','Central':'Cape Coast','West North':'Bibiani','Ashanti':'Kumasi','Eastern':'Koforidua'}\n",
    "\n",
    "#Print region_capital\n",
    "region_capital"
   ]
  },
  {
   "cell_type": "code",
   "execution_count": 52,
   "id": "befa8b0e",
   "metadata": {},
   "outputs": [
    {
     "data": {
      "text/plain": [
       "dict_keys(['Western', 'Central', 'West North', 'Ashanti', 'Eastern'])"
      ]
     },
     "execution_count": 52,
     "metadata": {},
     "output_type": "execute_result"
    }
   ],
   "source": [
    "#Print out the keys of region_capital\n",
    "region_capital.keys()"
   ]
  },
  {
   "cell_type": "code",
   "execution_count": 54,
   "id": "61772e59",
   "metadata": {},
   "outputs": [
    {
     "data": {
      "text/plain": [
       "dict_values(['Sekodi Takoradi', 'Cape Coast', 'Bibiani', 'Kumasi', 'Koforidua'])"
      ]
     },
     "execution_count": 54,
     "metadata": {},
     "output_type": "execute_result"
    }
   ],
   "source": [
    "#Print out the values of region_capital\n",
    "region_capital.values()"
   ]
  },
  {
   "cell_type": "markdown",
   "id": "70526b3b",
   "metadata": {},
   "source": [
    "### Q8\n",
    "\n",
    "`values = [3,4,5,6,3,4,3,5,2,4,2,5,6,1,6]`\n",
    "\n",
    "Using the codes above answer the following questions:\n",
    "- What is the total number of elements in values?\n",
    "- What is the highest occuring number in the values variable?\n",
    "- Convert values into a set and store it into a variable named `values_set`\n",
    "- How many elements are in the variable values_set?\n"
   ]
  },
  {
   "cell_type": "code",
   "execution_count": 2,
   "id": "4da9e469",
   "metadata": {},
   "outputs": [],
   "source": [
    "#Create the values list\n",
    "values = [3,3,4,5,6,3,4,3,5,2,4,2,5,6,1,6]"
   ]
  },
  {
   "cell_type": "code",
   "execution_count": 58,
   "id": "c0ce1e2c",
   "metadata": {},
   "outputs": [
    {
     "data": {
      "text/plain": [
       "16"
      ]
     },
     "execution_count": 58,
     "metadata": {},
     "output_type": "execute_result"
    }
   ],
   "source": [
    "#What is the total number of elements in values\n",
    "\n",
    "len(values)"
   ]
  },
  {
   "cell_type": "code",
   "execution_count": 3,
   "id": "800bd431",
   "metadata": {},
   "outputs": [
    {
     "name": "stdout",
     "output_type": "stream",
     "text": [
      "3\n"
     ]
    }
   ],
   "source": [
    "#What is the highest occuring number in the values variable?\n",
    "print(max(values,key=values.count))"
   ]
  },
  {
   "cell_type": "code",
   "execution_count": 59,
   "id": "f8687fc7",
   "metadata": {},
   "outputs": [],
   "source": [
    "#Convert values into a set and store it into a variable named values_set\n",
    "values_set=set(values)"
   ]
  },
  {
   "cell_type": "code",
   "execution_count": 60,
   "id": "4bd93501",
   "metadata": {},
   "outputs": [
    {
     "data": {
      "text/plain": [
       "{1, 2, 3, 4, 5, 6}"
      ]
     },
     "execution_count": 60,
     "metadata": {},
     "output_type": "execute_result"
    }
   ],
   "source": [
    "#How many elements are in the variable values_set?\n",
    "values_set"
   ]
  },
  {
   "cell_type": "markdown",
   "id": "801d5876",
   "metadata": {},
   "source": [
    "### Q9\n",
    "Write a Python script to print a dictionary where the keys are numbers between 1 and 15 (both included) and the values are the square of the keys."
   ]
  },
  {
   "cell_type": "code",
   "execution_count": 5,
   "id": "945df01f",
   "metadata": {},
   "outputs": [
    {
     "name": "stdout",
     "output_type": "stream",
     "text": [
      "{1: 1, 2: 4, 3: 9, 4: 16, 5: 25, 6: 36, 7: 49, 8: 64, 9: 81, 10: 100, 11: 121, 12: 144, 13: 169, 14: 196, 15: 225}\n"
     ]
    }
   ],
   "source": [
    "#Create a key list using for loop\n",
    "keys = [i for i in range(1, 16)]\n",
    "\n",
    "#Create a values list using for loop\n",
    "values = [x ** 2 for x in range(1, 16)]\n",
    "\n",
    "#map the index of keys and values to create a dictionary\n",
    "dct = dict(zip(keys, values))\n",
    "\n",
    "#print out dictionary\n",
    "print(dct)"
   ]
  },
  {
   "cell_type": "code",
   "execution_count": 6,
   "id": "4e852ae5",
   "metadata": {},
   "outputs": [
    {
     "data": {
      "text/plain": [
       "dict_items([(1, 1), (2, 4), (3, 9), (4, 16), (5, 25), (6, 36), (7, 49), (8, 64), (9, 81), (10, 100), (11, 121), (12, 144), (13, 169), (14, 196), (15, 225)])"
      ]
     },
     "execution_count": 6,
     "metadata": {},
     "output_type": "execute_result"
    }
   ],
   "source": [
    "# View objects in dictionary\n",
    "dct.items()"
   ]
  },
  {
   "cell_type": "markdown",
   "id": "18954e57",
   "metadata": {},
   "source": [
    "### Q10\n",
    "Write a Python program to create a dictionary of keys x, y, and z where each key has as value a list from 11-20, 21-30, and 31-40 respectively. Access the fifth value of each key from the dictionary."
   ]
  },
  {
   "cell_type": "code",
   "execution_count": 76,
   "id": "fec19820",
   "metadata": {},
   "outputs": [
    {
     "data": {
      "text/plain": [
       "{'x': [11, 12, 13, 14, 15, 16, 17, 18, 19, 20],\n",
       " 'y': [21, 22, 23, 24, 25, 26, 27, 28, 29, 30],\n",
       " 'z': [31, 32, 33, 34, 35, 36, 37, 38, 39, 40]}"
      ]
     },
     "execution_count": 76,
     "metadata": {},
     "output_type": "execute_result"
    }
   ],
   "source": [
    "# Create a dictionary using range()\n",
    "\n",
    "dict_list ={'x': list(range(11,21)),'y':list(range(21,31)),'z':list(range(31,41))}\n",
    "\n",
    "#print out dictionary\n",
    "dict_list"
   ]
  },
  {
   "cell_type": "code",
   "execution_count": 80,
   "id": "e9b290ea",
   "metadata": {},
   "outputs": [
    {
     "name": "stdout",
     "output_type": "stream",
     "text": [
      "x: 15\n",
      "y: 25\n",
      "z: 35\n"
     ]
    }
   ],
   "source": [
    "# find the 5 value for each key in dictionary\n",
    "for key, values in dict_list.items():\n",
    "    print(f\"{key}: {values[4]}\")\n"
   ]
  }
 ],
 "metadata": {
  "kernelspec": {
   "display_name": "Python 3 (ipykernel)",
   "language": "python",
   "name": "python3"
  },
  "language_info": {
   "codemirror_mode": {
    "name": "ipython",
    "version": 3
   },
   "file_extension": ".py",
   "mimetype": "text/x-python",
   "name": "python",
   "nbconvert_exporter": "python",
   "pygments_lexer": "ipython3",
   "version": "3.9.7"
  }
 },
 "nbformat": 4,
 "nbformat_minor": 5
}
